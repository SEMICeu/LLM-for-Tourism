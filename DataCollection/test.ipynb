{
 "cells": [
  {
   "cell_type": "code",
   "execution_count": 4,
   "metadata": {},
   "outputs": [],
   "source": [
    "import re # For preprocessing\n",
    "import contractions\n"
   ]
  },
  {
   "cell_type": "code",
   "execution_count": 18,
   "metadata": {},
   "outputs": [],
   "source": [
    "import pandas as pd\n",
    "from pathlib import Path\n",
    "import os\n",
    "\n",
    "DirPpath = Path(os.path.abspath('')).parent\n",
    "IndexedPath = str(DirPpath.absolute()) + \"\\DataCollection\\scraping.csv\"\n",
    "text = pd.read_csv(IndexedPath, index_col=0)\n",
    "text = text.dropna()"
   ]
  },
  {
   "cell_type": "code",
   "execution_count": 37,
   "metadata": {},
   "outputs": [],
   "source": [
    "for i in range(245): \n",
    "\n",
    "    try:\n",
    "    \n",
    "        text['0'][i] = re.sub(r'\\sth\\s', \" th\", text['0'][i])\n",
    "        text['0'][i] = re.sub(r'\\sTh\\s', \" Th\", text['0'][i])\n",
    "        text['0'][i] = re.sub(r'\\spro\\s', \" pro\", text['0'][i])\n",
    "        text['0'][i] = re.sub(r'\\scon\\s', \" con\", text['0'][i])\n",
    "        text['0'][i] = re.sub(r'\\sCon\\s', \" Con\", text['0'][i])\n",
    "        text['0'][i] = re.sub(r'\\ssu\\s', \" su\", text['0'][i])\n",
    "        text['0'][i] = re.sub(r'\\sst\\s', \" st\", text['0'][i])\n",
    "        text['0'][i] = re.sub(r'\\sSt\\s', \" St\", text['0'][i])\n",
    "        text['0'][i] = re.sub(r'\\sAc\\s', \" Ac\", text['0'][i])\n",
    "        text['0'][i] = re.sub(r'\\sac\\s', \" ac\", text['0'][i])\n",
    "        text['0'][i] = re.sub(r'\\sex\\s', \" ex\", text['0'][i])\n",
    "        text['0'][i] = re.sub(r'\\sres\\s', \" res\", text['0'][i])\n",
    "    \n",
    "    except: \n",
    "        next\n"
   ]
  },
  {
   "cell_type": "code",
   "execution_count": null,
   "metadata": {},
   "outputs": [],
   "source": []
  },
  {
   "cell_type": "code",
   "execution_count": 60,
   "metadata": {},
   "outputs": [],
   "source": [
    "text = \"I'm Emilien Caudron. I'm 24 years old. [2014]\"\n",
    "\n",
    "text = text.lower() # Lowercase all the characters from the string\n",
    "text = text.strip() # Remove the leading and trailing whitespaces\n",
    "text = re.compile('<.*?>').sub(' ', text)\n",
    "# #text = re.compile('[%s]' % re.escape(string.punctuation)).sub(' ', text) # Removing Punctuation\n",
    "# #text = re.sub(r'\\[[0-9]*\\]', ' ', text)\n",
    "# #text = re.sub(r'\\d', '', text) # Removing digits\n",
    "# #text = re.sub(r\"\\b[a-zA-Z]\\b\", \"\", text) # Removing single characters\n",
    "# #text = re.sub(r'[^\\w\\s]', '', str(text)) # Remove non alphanumeric characters\n",
    "# text = re.sub(r'\\s+', ' ', str(text).strip()) # Replacing \"double, triple, etc\" whitespaces by one\n",
    "\n",
    "text = text.encode('ascii', 'ignore').decode()  # remove unicode characters\n",
    "text = re.sub(r'https*\\S+', ' ', text) # remove links\n",
    "text = re.sub(r'http*\\S+', ' ', text)\n",
    "# # cleaning up text\n",
    "#text = re.sub(r'\\'\\w+', ' ', text)\n",
    "text = re.sub(r'\\s{2,}', ' ', text)\n",
    "text = re.sub(r'\\s[^\\w\\s]\\s', ' ', text)\n",
    "text = re.sub(r'\\[\\d+\\]', ' ', text)\n",
    "text = re.sub(r'\\(\\d+\\)', ' ', text)\n",
    "text = re.sub(r'\\w+\\d+\\w+', ' ', text)\n",
    "text = text.strip()\n",
    "text = contractions.fix(text)"
   ]
  },
  {
   "cell_type": "code",
   "execution_count": 61,
   "metadata": {},
   "outputs": [
    {
     "data": {
      "text/plain": [
       "'i am emilien caudron. i am 24 years old.'"
      ]
     },
     "execution_count": 61,
     "metadata": {},
     "output_type": "execute_result"
    }
   ],
   "source": [
    "text"
   ]
  }
 ],
 "metadata": {
  "kernelspec": {
   "display_name": ".venv",
   "language": "python",
   "name": "python3"
  },
  "language_info": {
   "codemirror_mode": {
    "name": "ipython",
    "version": 3
   },
   "file_extension": ".py",
   "mimetype": "text/x-python",
   "name": "python",
   "nbconvert_exporter": "python",
   "pygments_lexer": "ipython3",
   "version": "3.10.13"
  },
  "orig_nbformat": 4
 },
 "nbformat": 4,
 "nbformat_minor": 2
}
