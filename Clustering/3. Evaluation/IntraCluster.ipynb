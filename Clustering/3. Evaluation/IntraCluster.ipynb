{
 "cells": [
  {
   "cell_type": "code",
   "execution_count": 1,
   "metadata": {},
   "outputs": [],
   "source": [
    "\"\"\" Importing relevant packages \"\"\"\n",
    "import os # For finding pre-processed data\n",
    "from pathlib import Path\n",
    "\n",
    "import pandas as pd # For data handling\n",
    "import numpy as np"
   ]
  },
  {
   "cell_type": "code",
   "execution_count": 123,
   "metadata": {},
   "outputs": [
    {
     "name": "stdout",
     "output_type": "stream",
     "text": [
      "The current location of PreprocessedData.csv is:  c:\\Users\\ecaudron001\\Documents\\GitHub\\semic_pledges\\OutputFiles\\Clusters.xlsx\n",
      "                                              Pledge  \\\n",
      "0  Actually we as an association are still pretty...   \n",
      "1  EFFAT welcomes the Commission Proposal for a R...   \n",
      "2  HOTREC calls for a level playing field and fai...   \n",
      "3  Estonia sees the need to synchronize and harmo...   \n",
      "4  Sphere Travel Club contributes to a flourishin...   \n",
      "\n",
      "                                    PreProcessedText  Cluster  Topics  \\\n",
      "0  actually association still pretty much begin d...        2       1   \n",
      "1  effat welcome commission proposal regulation d...        5       1   \n",
      "2  hotrec call level play field fair competition ...        5       1   \n",
      "3  estonia see need synchronize harmonize rule sh...        5       1   \n",
      "4  sphere travel club contribute flourish transpa...        2       1   \n",
      "\n",
      "                  Area        Y1         Y2  Centers  \n",
      "0  Policy & regulation -3.715217 -11.693029        1  \n",
      "1  Policy & regulation  3.836716 -14.597493        0  \n",
      "2  Policy & regulation  6.509762 -14.717672        0  \n",
      "3  Policy & regulation  2.391184 -12.419875        0  \n",
      "4  Policy & regulation -2.166919 -11.141480        0  \n",
      "The current location of PreprocessedData.csv is:  c:\\Users\\ecaudron001\\Documents\\GitHub\\semic_pledges\\OutputFiles\\IndexedDataV1.csv\n"
     ]
    }
   ],
   "source": [
    "\"\"\" Loading the pre-processed data \"\"\"\n",
    "\n",
    "DirPpath = Path(os.path.abspath('')).parent # Fetching the current directory path\n",
    "PledgesCsvPath = str(DirPpath.absolute()) + \"\\OutputFiles\\Clusters5.xlsx\" \n",
    "PledgesCsvPath = \"c:\\\\Users\\\\ecaudron001\\\\Documents\\\\GitHub\\\\semic_pledges\\\\OutputFiles\\\\Clusters.xlsx\"\n",
    "\n",
    "print(\"The current location of PreprocessedData.csv is: \", PledgesCsvPath)\n",
    "\n",
    "PledgesDf = pd.read_excel(PledgesCsvPath, index_col=0) # Loading the preprocessed pledges into a dataframe\n",
    "\n",
    "print(PledgesDf.head()) # Controlling the data loaded\n",
    "\n",
    "\n",
    "PledgesCsvPath = str(DirPpath.absolute()) + \"\\OutputFiles\\IndexedDataV5.csv\" \n",
    "PledgesCsvPath = \"c:\\\\Users\\\\ecaudron001\\Documents\\\\GitHub\\\\semic_pledges\\\\OutputFiles\\\\IndexedDataV1.csv\"\n",
    "\n",
    "print(\"The current location of PreprocessedData.csv is: \", PledgesCsvPath)\n",
    "data = pd.read_csv(PledgesCsvPath, index_col=0)\n",
    "\n",
    "data[\"Prediction\"] = PledgesDf[\"Cluster\"].values"
   ]
  },
  {
   "cell_type": "code",
   "execution_count": 124,
   "metadata": {},
   "outputs": [],
   "source": [
    "C1 = data.loc[data[\"Prediction\"] == 1]\n",
    "C2 = data.loc[data[\"Prediction\"] == 2]\n",
    "C3 = data.loc[data[\"Prediction\"] == 3]\n",
    "C4 = data.loc[data[\"Prediction\"] == 4]\n",
    "C5 = data.loc[data[\"Prediction\"] == 5]\n",
    "C6 = data.loc[data[\"Prediction\"] == 6]\n",
    "\n",
    "cluster_list = [C1.drop([\"Prediction\"], axis = 1).to_numpy(), C2.drop([\"Prediction\"], axis = 1).to_numpy(), C3.drop([\"Prediction\"], axis = 1).to_numpy(), C4.drop([\"Prediction\"], axis = 1).to_numpy(), \n",
    "                C5.drop([\"Prediction\"], axis = 1).to_numpy(), C6.drop([\"Prediction\"], axis = 1).to_numpy()]"
   ]
  },
  {
   "cell_type": "code",
   "execution_count": 125,
   "metadata": {},
   "outputs": [
    {
     "data": {
      "text/plain": [
       "0.04698913210519088"
      ]
     },
     "execution_count": 125,
     "metadata": {},
     "output_type": "execute_result"
    }
   ],
   "source": [
    "from sklearn.metrics import silhouette_score\n",
    "\n",
    "silhouette_score(data.loc[:, data.columns != 'Prediction'], data[\"Prediction\"])"
   ]
  }
 ],
 "metadata": {
  "kernelspec": {
   "display_name": ".venv",
   "language": "python",
   "name": "python3"
  },
  "language_info": {
   "codemirror_mode": {
    "name": "ipython",
    "version": 3
   },
   "file_extension": ".py",
   "mimetype": "text/x-python",
   "name": "python",
   "nbconvert_exporter": "python",
   "pygments_lexer": "ipython3",
   "version": "3.10.13"
  },
  "orig_nbformat": 4
 },
 "nbformat": 4,
 "nbformat_minor": 2
}
