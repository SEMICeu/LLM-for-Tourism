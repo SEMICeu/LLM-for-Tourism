{
 "cells": [
  {
   "cell_type": "code",
   "execution_count": null,
   "metadata": {},
   "outputs": [],
   "source": [
    "import os \n",
    "from pathlib import Path # For fetching the required files\n",
    "import pandas as pd"
   ]
  },
  {
   "cell_type": "code",
   "execution_count": null,
   "metadata": {},
   "outputs": [],
   "source": [
    "DirPpath = Path(os.path.abspath('')).parent # Fetching the current directory path\n",
    "\n",
    "#ResultsPath  = str(DirPpath.absolute()) + \"\\Github\\LLM-for-Tourism\\Clustering\\OutputFiles\\Clusters.xlsx\"\n",
    "ResultsPath  = str(DirPpath.absolute()) + \"\\Github\\LLM-for-Tourism\\Clustering\\OutputFiles\\Clusters2.xlsx\"\n",
    "#ResultsPath  = str(DirPpath.absolute()) + \"\\Github\\LLM-for-Tourism\\Clustering\\OutputFiles\\Clusters3.xlsx\"\n",
    "ResultsDf = pd.read_excel(ResultsPath)  "
   ]
  },
  {
   "cell_type": "code",
   "execution_count": null,
   "metadata": {},
   "outputs": [],
   "source": [
    "ResultsDf"
   ]
  },
  {
   "cell_type": "markdown",
   "metadata": {},
   "source": [
    "### Splitting the clusters based on prompt size limit"
   ]
  },
  {
   "cell_type": "code",
   "execution_count": null,
   "metadata": {},
   "outputs": [],
   "source": [
    "cluster_txt = {}\n",
    "\n",
    "for i in range(1,7):\n",
    "    \n",
    "    print(i)\n",
    "    cluster = ResultsDf[ResultsDf[\"Cluster\"] == i]\n",
    "    text = \"\"\n",
    "    \n",
    "    j = 0\n",
    "    cluster_txt[i] = []\n",
    "\n",
    "    for pledge in cluster[\"Pledge\"]: \n",
    "        \n",
    "        j +=1 \n",
    "\n",
    "        new_text = text + \" Text \" + str(j) + \": \" + pledge + \"\\n\"\n",
    "\n",
    "        if len(new_text) > 3900*4:\n",
    "        \n",
    "            cluster_txt[i].append(text)\n",
    "            text = \" Text \" + str(j) + \": \" + pledge + \"\\n\"\n",
    "\n",
    "        else:\n",
    "            text = new_text\n",
    "        \n",
    "        \n",
    "        \n",
    "    cluster_txt[i].append(text)"
   ]
  },
  {
   "cell_type": "code",
   "execution_count": null,
   "metadata": {},
   "outputs": [],
   "source": [
    "sum = 0\n",
    "\n",
    "for cluster in cluster_txt:\n",
    "\n",
    "    length = len(cluster_txt[cluster])\n",
    "    print(length)\n",
    "    sum += length\n",
    "\n",
    "print(sum)"
   ]
  },
  {
   "cell_type": "markdown",
   "metadata": {},
   "source": [
    "### Creating the prompt"
   ]
  },
  {
   "cell_type": "code",
   "execution_count": null,
   "metadata": {},
   "outputs": [],
   "source": [
    "for keys in cluster_txt.keys():\n",
    "    \n",
    "    for i in range(len(cluster_txt[keys])):\n",
    "\n",
    "        \n",
    "        if i == 0: \n",
    "            cluster_txt[keys][i] = f\"\"\"Do not answer yet. This is just another part of the text I want to send you. Just receive and acknowledge as \"Part 1/{len(cluster_txt[keys])} received\" and wait for the next part.  \n",
    "            \n",
    "            [START PART 1/{len(cluster_txt[keys])}]  \n",
    "            \n",
    "            Below you can find a set of texts belonging to a common cluster. Based on their content, I want you to tell me what is the topic of this cluster:\n",
    "            \n",
    "            {cluster_txt[keys][i]}\n",
    "\n",
    "            [END PART 1/{len(cluster_txt[keys])}]  \n",
    "            Remember not answering yet. Just acknowledge you received this part with the message \"Part 1/{len(cluster_txt[keys])} received\" and wait for the next part.\n",
    "            \"\"\"\n",
    "\n",
    "        elif i == (len(cluster_txt[keys])-1):\n",
    "            cluster_txt[keys][i] = f\"\"\"[START PART {len(cluster_txt[keys])}/{len(cluster_txt[keys])}]              \n",
    "\n",
    "            {cluster_txt[keys][i]}\n",
    "\n",
    "            [END PART {len(cluster_txt[keys])}/{len(cluster_txt[keys])}]  \n",
    "            ALL PARTS SENT. Now you can continue processing the request.\n",
    "            \"\"\"\n",
    "\n",
    "        else: \n",
    "            cluster_txt[keys][i] = f\"\"\"Do not answer yet. This is just another part of the text I want to send you. Just receive and acknowledge as \"Part {i+1}/{len(cluster_txt[keys])} received\" and wait for the next part.  \n",
    "            \n",
    "            [START PART {i+1}/{len(cluster_txt[keys])}]            \n",
    "\n",
    "            {cluster_txt[keys][i]}\n",
    "\n",
    "            [END PART {i+1}/{len(cluster_txt[keys])}]  \n",
    "            Remember not answering yet. Just acknowledge you received this part with the message \"Part {i+1}/{len(cluster_txt[keys])} received\" and wait for the next part.\n",
    "            \"\"\"\n",
    "\n",
    "    content = f\"\"\"The total length of the content that I want to send you is too large to send in only one piece.  \n",
    "          \n",
    "    For sending you that content, I will follow this rule:  \n",
    "            \n",
    "    [START PART 1/{len(cluster_txt[keys])}]  \n",
    "    this is the content of the part 1 out of {len(cluster_txt[keys])} in total  \n",
    "    [END PART 1/{len(cluster_txt[keys])}]  \n",
    "            \n",
    "    Then you just answer: \"Received part 1/{len(cluster_txt[keys])}\"  \n",
    "            \n",
    "    And when I tell you \"ALL PARTS SENT\", then you can continue processing the data and answering my requests.\n",
    "\n",
    "    \"\"\"\n",
    "\n",
    "    cluster_txt[keys].insert(0, content)"
   ]
  },
  {
   "cell_type": "code",
   "execution_count": null,
   "metadata": {},
   "outputs": [],
   "source": [
    "print(cluster_txt[1][2])"
   ]
  },
  {
   "cell_type": "markdown",
   "metadata": {},
   "source": [
    "### API calls to openAI (classification)"
   ]
  },
  {
   "cell_type": "code",
   "execution_count": null,
   "metadata": {},
   "outputs": [],
   "source": [
    "import openai\n",
    "import os\n",
    "\n",
    "os.environ[\"OPENAI\"] = \"XXXX\"\n",
    "openai.api_key = os.environ[\"OPENAI\"]"
   ]
  },
  {
   "cell_type": "markdown",
   "metadata": {},
   "source": [
    "#### Cluster definitions"
   ]
  },
  {
   "cell_type": "markdown",
   "metadata": {},
   "source": [
    "Word2vec"
   ]
  },
  {
   "cell_type": "code",
   "execution_count": null,
   "metadata": {},
   "outputs": [],
   "source": [
    "Cluster1 = \"the common topic of Cluster 1 is related to sustainable tourism development. The texts emphasize various aspects such as governance, monitoring, innovation, digital transformation, sustainable practices, and stakeholder engagement. The primary goal is to promote a sustainable and responsible approach to tourism, addressing environmental, social, and economic sustainability while enhancing the competitiveness and resilience of the tourism industry.\"\n",
    "Cluster2 = \"The common topic of Cluster 2 is related to sustainability and green initiatives in the tourism industry. The various texts discuss measures and goals aimed at reducing carbon emissions, promoting eco-friendly practices, sustainable tourism development, and the overall transition towards a more environmentally responsible tourism sector. This includes initiatives such as promoting sustainable accommodation, environmentally friendly transportation, reducing waste and plastic use, and supporting certification programs for sustainable tourism businesses.\"\n",
    "Clutser3 = \"The common topic of Cluster 3 is related to data-driven decision-making and the use of data for improving various aspects of the tourism industry. The texts discuss the development and implementation of data platforms, monitoring systems, and data analysis tools to better understand visitor behavior, enhance destination management, reduce environmental impacts, and improve overall tourism experiences. This includes initiatives such as creating data lakes, establishing data sharing practices, developing data-driven tourism services, and utilizing big data sources for predicting tourist flows.\"\n",
    "Cluster4 = \"The common topic of Cluster 4 is related to the development and implementation of digital solutions, platforms, and initiatives aimed at improving the tourism industry. This includes enhancing accessibility, sustainability, inclusivity, and visibility of tourism offerings for various destinations, businesses, and stakeholders. The cluster also covers the use of digital technologies for better communication, data management, marketing, and enhancing visitor experiences. The overarching goal is to support tourism authorities, destinations, and SMEs in adopting digital technologies and practices to create a more efficient, sustainable, and inclusive tourism industry by 2025 and beyond.\"\n",
    "Cluster5 = \"The common topic of Cluster 5 is related to the development and improvement of the tourism sector, with a focus on sustainability, digitalization, skills development, and inclusivity. The texts mention various initiatives, projects, and goals aimed at enhancing the tourism industry's transition towards a more sustainable, inclusive, and resilient future, involving collaboration between educational institutions, businesses, governments, and other stakeholders.\"\n",
    "Cluster6 = \"The common topic of Cluster 6 is related to investing in and supporting innovative solutions across various sectors, such as sustainable mobility, circular economy, green transition, tourism, and seamless travel. The focus is on identifying and mentoring entrepreneurs and startups, with the goal of becoming their first investor and assisting in their growth.\""
   ]
  },
  {
   "cell_type": "markdown",
   "metadata": {},
   "source": [
    "BERT"
   ]
  },
  {
   "cell_type": "code",
   "execution_count": null,
   "metadata": {},
   "outputs": [],
   "source": [
    "Cluster1 = \"The common topic of Cluster 1 is related to the development and implementation of various strategies, initiatives, and actions aimed at improving the sustainability, accessibility, and competitiveness of the tourism sector in Europe. The texts discuss efforts to promote fair competition, ensure environmental responsibility, enhance digitalization, improve workforce skills, and support innovation in the tourism industry. They also emphasize the importance of collaboration between various stakeholders, such as governments, businesses, educational institutions, and international organizations, to achieve these goals and enhance the overall quality and sustainability of the tourism sector.\"\n",
    "Cluster2 = \"The common topic of Cluster 2 is related to the development and implementation of various strategies, initiatives, and actions aimed at improving the sustainability, digitalization, accessibility, and competitiveness of the tourism sector in Europe. The texts discuss efforts to promote fair competition, ensure environmental responsibility, enhance digitalization, improve workforce skills, and support innovation in the tourism industry. They also emphasize the importance of collaboration between various stakeholders, such as governments, businesses, educational institutions, and international organizations, to achieve these goals and enhance the overall quality and sustainability of the tourism sector.\"\n",
    "Clutser3 = \"The common topic of Cluster 3 is centered around sustainability, green transition, and digital transformation in the tourism sector. The texts discuss various initiatives, projects, and commitments aimed at improving environmental, social, and economic aspects of tourism, while also addressing skills development, data-driven approaches, and accessibility. The goal is to create a more sustainable, resilient, and inclusive tourism industry across Europe and beyond.\"\n",
    "Cluster4 = \"The common topic of Cluster 4 is Sustainable Tourism and Data Management. The texts mainly discuss initiatives, projects, and commitments related to enhancing sustainability in the tourism sector, promoting environmentally friendly practices, reducing waste and carbon footprint, and improving data collection and sharing for informed decision-making. The texts emphasize the importance of collaboration among stakeholders, developing innovative solutions, and utilizing technology and data to better understand and manage tourism while minimizing negative impacts on the environment, economy, and society.\"\n",
    "Cluster5 = \"The common topic of Cluster 5 is related to the sustainable tourism development. The texts discuss various aspects of this topic, including digitalization, environmental protection, data-driven approaches, green transition, education and training, funding opportunities, and stakeholder collaboration. The focus is on improving tourism practices, reducing the negative impact on the environment, and enhancing the overall sustainability of the tourism sector.\"\n",
    "Cluster6 = \"The common topic of Cluster 6 is related to sustainable tourism, digitalization, and inclusivity. The texts discuss various initiatives, strategies, projects, and actions aimed at promoting environmentally friendly practices, digital transformation, accessibility, and social responsibility within the tourism industry. Some key areas of focus include sustainable development, workforce training, digital tools, data sharing, and accessibility for people with disabilities.\""
   ]
  },
  {
   "cell_type": "markdown",
   "metadata": {},
   "source": [
    "TourBERT"
   ]
  },
  {
   "cell_type": "code",
   "execution_count": null,
   "metadata": {},
   "outputs": [],
   "source": [
    "Cluster1 = \"The common topic of Cluster 1 is related to sustainable tourism, tourism development strategies, and the digitalization and green transition of the tourism industry. The texts discuss various aspects of sustainable tourism, including certifications, data management, national and regional strategies, destination management, capacity building, and education and training initiatives.\"\n",
    "Cluster2 = \"The common topic of Cluster 2 is focused on the development and implementation of sustainable and accessible tourism practices. This includes initiatives and commitments towards a green transition, digital transformation, and resilience within the tourism industry. The texts discuss various projects, policies, and actions aiming to improve the environmental, social, and economic aspects of the tourism sector across Europe and beyond.\"\n",
    "Clutser3 = \"The common topic of Cluster 3 is related to sustainable and accessible tourism. The texts discuss various initiatives, projects, and goals aimed at improving the tourism industry by focusing on sustainability, digitalization, accessibility, capacity building, and skill development. These efforts are meant to create a more inclusive, environmentally friendly, and economically viable tourism sector for both local communities and visitors.\"\n",
    "Cluster4 = \"The common topic of Cluster 4 is related to sustainable tourism development, with a focus on digitalization, accessibility, environmental protection, capacity building, and skill development. The texts discuss various initiatives, projects, and goals aimed at improving the tourism industry by focusing on sustainability, green transition, community involvement, and the use of digital technologies. These efforts are meant to create a more inclusive, environmentally friendly, and economically viable tourism sector for both local communities and visitors.\"\n",
    "Cluster5 = \"The common topic of Cluster 5 is related to sustainable and inclusive tourism development, with a focus on digitalization, accessibility, environmental protection, capacity building, and skill development. The texts discuss various initiatives, projects, and goals aimed at improving the tourism industry by focusing on sustainability, green transition, community involvement, and the use of digital technologies. These efforts are meant to create a more inclusive, environmentally friendly, and economically viable tourism sector for both local communities and visitors.\"\n",
    "Cluster6 = \"The common topic of Cluster 6 is related to promoting sustainable, responsible, and inclusive tourism practices through various initiatives, such as improving data-driven approaches, digitalization, intermodal transportation, circular economy models, and stakeholder engagement. The texts highlight strategies, projects, and targets aimed at enhancing the tourism industry's sustainability, accessibility, and resilience, while also emphasizing the importance of collaboration between public, private, and civil society sectors.\""
   ]
  },
  {
   "cell_type": "markdown",
   "metadata": {},
   "source": [
    "Fine-tuned BERT"
   ]
  },
  {
   "cell_type": "code",
   "execution_count": null,
   "metadata": {},
   "outputs": [],
   "source": [
    "Cluster1 = \"The common topic of Cluster 1 is related to the tourism industry, with a particular focus on sustainability, accessibility, digitalization, skills development, and inclusivity. The texts discuss various initiatives, projects, and commitments by different organizations, regions, and stakeholders to improve and transform the tourism sector in alignment with the Sustainable Development Goals, digital transformation, and providing equal opportunities for all.\"\n",
    "Cluster2 = \"The common topic of Cluster 2 revolves around sustainable and accessible tourism. The texts discuss various initiatives, projects, and commitments aimed at reducing the environmental impact of tourism, enhancing accessibility for people with disabilities, promoting social and economic sustainability, and fostering digital and green transformations in the tourism sector. The texts also outline goals, actions, and measurable targets to support the transition towards more sustainable and inclusive tourism practices, both in the short and long term.\"\n",
    "Clutser3 = \"The common topic of Cluster 3 is related to sustainable tourism, focusing on various aspects such as climate neutrality, CO2 emissions reduction, environmental and social indicators, accessibility, digitalization, greenways, and local community engagement. The texts discuss different projects, initiatives, and commitments aimed at promoting sustainability in the tourism sector across various regions and countries.\"\n",
    "Cluster4 = \"The common topic of Cluster 4 is related to sustainable and inclusive tourism, with a focus on various aspects such as environmental responsibility, digital transformation, accessibility, education, green transition, and social responsibility. The texts discuss different projects, initiatives, and commitments aimed at promoting sustainability, inclusivity, and accessibility in the tourism sector across various regions and countries.\"\n",
    "Cluster5 = \"The common topic of Cluster 5 is related to the development, implementation, and monitoring of strategies, policies, and initiatives in the tourism sector. These texts cover a wide range of subjects, including sustainable tourism, digital transformation, data management, education and training, accessibility, green transition, and governance. The focus is on enhancing the tourism experience for visitors, improving the sector's environmental and social impact, and ensuring the industry's long-term viability and growth.\"\n",
    "Cluster6 = \"The common topic of Cluster 6 is related to sustainable tourism development, focusing on various aspects such as digitalization, education and training, environmental sustainability, data-driven approaches, and destination management. These texts discuss initiatives, projects, and goals aimed at improving the tourism sector in terms of sustainability, accessibility, and inclusivity. The focus is on providing support and resources for stakeholders, such as SMEs and destinations, to adopt more sustainable practices, leverage digital technologies, and enhance the overall tourism experience for visitors and residents alike.\""
   ]
  },
  {
   "cell_type": "markdown",
   "metadata": {},
   "source": [
    "#### Classification"
   ]
  },
  {
   "cell_type": "code",
   "execution_count": null,
   "metadata": {},
   "outputs": [],
   "source": [
    "#Note: The openai-python library support for Azure OpenAI is in preview.\n",
    "      #Note: This code sample requires OpenAI Python library version 0.28.1 or lower.\n",
    "import os\n",
    "import re\n",
    "import openai\n",
    "\n",
    "openai.api_type = \"azure\"\n",
    "openai.api_base = \"https://eastusazuredemo.openai.azure.com/\"\n",
    "openai.api_version = \"2023-07-01-preview\"\n",
    "#openai.api_key = os.getenv(\"OPENAI_API_KEY\")\n",
    "\n",
    "prediction = []\n",
    "\n",
    "for texts in ResultsDf.iloc[300:,:][\"Pledge\"]:\n",
    "  message_text = [{\"role\":\"system\",\"content\":f\"You are an AI assistant that helps people find information.You will be provided with different textual pledges. Classify each pledge into Cluster 1, Cluster 2, Cluster 3, Cluster 4, Cluster 5, or Cluster 6. {Cluster1} {Cluster2} {Clutser3} {Cluster4} {Cluster5} {Cluster6}\"}\n",
    "                  ,{\"role\":\"user\",\"content\":f\"Here is the pledge to classify: {texts}. Only provide the Cluster number as output\"}]\n",
    "\n",
    "  completion = openai.ChatCompletion.create(\n",
    "    engine=\"basetest\",\n",
    "    messages = message_text,\n",
    "    temperature=0.7,\n",
    "    max_tokens=800,\n",
    "    top_p=0.95,\n",
    "    frequency_penalty=0,\n",
    "    presence_penalty=0,\n",
    "    stop=None\n",
    "  )\n",
    "\n",
    "  prediction.append(re.sub(r'Cluster\\s([0-9])', r'\\1' ,completion.choices[0][\"message\"][\"content\"]))"
   ]
  },
  {
   "cell_type": "code",
   "execution_count": null,
   "metadata": {},
   "outputs": [],
   "source": [
    "for i in range(len(prediction)):\n",
    "    \n",
    "    try:\n",
    "        prediction[i] = re.sub(r'[^\\d]+', '', prediction[i])\n",
    "        prediction[i] = int(prediction[i])\n",
    "    except:\n",
    "        next"
   ]
  },
  {
   "cell_type": "code",
   "execution_count": null,
   "metadata": {},
   "outputs": [],
   "source": [
    "total = 0\n",
    "count = 0\n",
    "\n",
    "for cluster, pred in zip(prediction, ResultsDf.iloc[:,:][\"Cluster\"]):\n",
    "\n",
    "    total +=1 \n",
    "\n",
    "    if cluster == pred:\n",
    "        \n",
    "        count += 1"
   ]
  },
  {
   "cell_type": "code",
   "execution_count": null,
   "metadata": {},
   "outputs": [],
   "source": [
    "count/total"
   ]
  },
  {
   "cell_type": "code",
   "execution_count": null,
   "metadata": {},
   "outputs": [],
   "source": [
    "df = pd.DataFrame.from_dict({\"Prediction\": prediction, \"Cluster\": ResultsDf.iloc[:,:][\"Cluster\"]})\n",
    "\n",
    "pd.crosstab(df[\"Cluster\"], df[\"Prediction\"])"
   ]
  },
  {
   "cell_type": "code",
   "execution_count": null,
   "metadata": {},
   "outputs": [],
   "source": [
    "from sklearn.metrics import f1_score\n",
    "\n",
    "f1_score(df[\"Prediction\"], df[\"Cluster\"], average=\"weighted\")"
   ]
  },
  {
   "cell_type": "code",
   "execution_count": null,
   "metadata": {},
   "outputs": [],
   "source": [
    "predictionTour #= prediction.copy()"
   ]
  },
  {
   "cell_type": "code",
   "execution_count": null,
   "metadata": {},
   "outputs": [],
   "source": [
    "predictionFBERT #= prediction.copy()"
   ]
  },
  {
   "cell_type": "code",
   "execution_count": null,
   "metadata": {},
   "outputs": [],
   "source": [
    "results = pd.DataFrame({\"TourBERT\": predictionTour, \"Fine-tuned BERT\": predictionFBERT})\n",
    "results.to_csv('results.csv')"
   ]
  }
 ],
 "metadata": {
  "language_info": {
   "name": "python"
  },
  "orig_nbformat": 4
 },
 "nbformat": 4,
 "nbformat_minor": 2
}
